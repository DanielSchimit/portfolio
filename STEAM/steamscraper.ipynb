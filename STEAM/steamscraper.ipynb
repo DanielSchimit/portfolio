{
 "cells": [
  {
   "cell_type": "code",
   "execution_count": 218,
   "metadata": {},
   "outputs": [],
   "source": [
    "import bs4 #beautifulsoup 4\n",
    "from urllib.request import urlopen as uReq #url open module\n",
    "from bs4 import BeautifulSoup as soup #beautifulsoup module\n",
    "import datetime\n",
    "import pandas as pd\n",
    "import csv\n",
    "import os\n",
    "import string"
   ]
  },
  {
   "cell_type": "code",
   "execution_count": 219,
   "metadata": {},
   "outputs": [],
   "source": [
    "#Baixar uma página\n",
    "url = \"https://store.steampowered.com/search/?specials=1&page=1\"\n",
    "uClient = uReq(url)\n",
    "page_html = uClient.read()\n",
    "uClient.close()"
   ]
  },
  {
   "cell_type": "code",
   "execution_count": 220,
   "metadata": {
    "scrolled": true
   },
   "outputs": [
    {
     "name": "stdout",
     "output_type": "stream",
     "text": [
      "25\n",
      "<div class=\"responsive_search_name_combined\">\n",
      "<div class=\"col search_name ellipsis\">\n",
      "<span class=\"title\">Red Dead Redemption 2</span>\n",
      "<div>\n",
      "<span class=\"platform_img win\"></span> </div>\n",
      "</div>\n",
      "<div class=\"col search_released responsive_secondrow\">5 Dec, 2019</div>\n",
      "<div class=\"col search_reviewscore responsive_secondrow\">\n",
      "<span class=\"search_review_summary positive\" data-tooltip-html=\"Very Positive&lt;br&gt;88% of the 247,002 user reviews for this game are positive.\">\n",
      "</span>\n",
      "</div>\n",
      "<div class=\"col search_price_discount_combined responsive_secondrow\" data-price-final=\"11950\">\n",
      "<div class=\"col search_discount responsive_secondrow\">\n",
      "<span>-50%</span>\n",
      "</div>\n",
      "<div class=\"col search_price discounted responsive_secondrow\">\n",
      "<span style=\"color: #888888;\"><strike>R$ 239,00</strike></span><br/>R$ 119,50                    </div>\n",
      "</div>\n",
      "</div>\n"
     ]
    }
   ],
   "source": [
    "#Visualize o conteúdo dos dados no jogo\n",
    "page_soup = soup(page_html, \"html.parser\")\n",
    "containers = page_soup.findAll(\"div\",{\"class\":\"responsive_search_name_combined\"})\n",
    "print(len(containers))\n",
    "print(containers[0])"
   ]
  },
  {
   "cell_type": "code",
   "execution_count": 221,
   "metadata": {},
   "outputs": [
    {
     "name": "stdout",
     "output_type": "stream",
     "text": [
      "88% 247,002\n"
     ]
    }
   ],
   "source": [
    "#Inclua classificações positivas e o número de comentários, se houver\n",
    "try:\n",
    "    rating = containers[0].find(\"span\", {\"class\",\"search_review_summary\"})\n",
    "    ratingtext = rating[\"data-tooltip-html\"]\n",
    "    splitrating = ratingtext.split(\">\")\n",
    "    splitrating[1].split()\n",
    "    percentile = splitrating[1].split()\n",
    "    score = percentile[0]\n",
    "    reviews = percentile[3]\n",
    "    print(score, reviews)\n",
    "except:\n",
    "    print(\"No review data\")"
   ]
  },
  {
   "cell_type": "code",
   "execution_count": 222,
   "metadata": {},
   "outputs": [
    {
     "name": "stdout",
     "output_type": "stream",
     "text": [
      "-50%\n"
     ]
    }
   ],
   "source": [
    "#Faça um desconto\n",
    "discount = containers[0].find(\"div\", {\"class\",\"search_discount\"})\n",
    "print(discount.span.text)"
   ]
  },
  {
   "cell_type": "code",
   "execution_count": 223,
   "metadata": {},
   "outputs": [
    {
     "name": "stdout",
     "output_type": "stream",
     "text": [
      "  239,00\n"
     ]
    }
   ],
   "source": [
    "#Obtenha os preços\n",
    "price = containers[0].find(\"div\", {\"class\",\"search_price\"}).text\n",
    "price2 = price.split(\"R$\")\n",
    "originalprice = price2[0].replace(\"\\n\",\"\")\n",
    "discountprice = price2[1]\n",
    "print(originalprice, discountprice)"
   ]
  },
  {
   "cell_type": "code",
   "execution_count": 224,
   "metadata": {},
   "outputs": [
    {
     "name": "stdout",
     "output_type": "stream",
     "text": [
      "14 Jan, 2022\n"
     ]
    }
   ],
   "source": [
    "#Obter datas\n",
    "published = containers[1].find(\"div\", {\"class\",\"search_released\"})\n",
    "print(published.text)"
   ]
  },
  {
   "cell_type": "code",
   "execution_count": 225,
   "metadata": {},
   "outputs": [
    {
     "name": "stdout",
     "output_type": "stream",
     "text": [
      "1\n"
     ]
    }
   ],
   "source": [
    "#Ele suporta janelas?\n",
    "platformwin = containers[0].find(\"span\", {\"class\",\"platform_img win\"})\n",
    "try:\n",
    "    if len(platformwin) == 0:\n",
    "        supportwin = 1\n",
    "except TypeError:\n",
    "    supportwin = 0\n",
    "print(supportwin)"
   ]
  },
  {
   "cell_type": "code",
   "execution_count": 226,
   "metadata": {},
   "outputs": [
    {
     "name": "stdout",
     "output_type": "stream",
     "text": [
      "0\n"
     ]
    }
   ],
   "source": [
    "#Suporta mac?\n",
    "platformmac = containers[0].find(\"span\", {\"class\",\"platform_img mac\"})\n",
    "try:\n",
    "    if len(platformmac) == 0:\n",
    "        supportmac = 1\n",
    "except TypeError:\n",
    "    supportmac = 0\n",
    "print(supportmac)"
   ]
  },
  {
   "cell_type": "code",
   "execution_count": 227,
   "metadata": {},
   "outputs": [
    {
     "name": "stdout",
     "output_type": "stream",
     "text": [
      "0\n"
     ]
    }
   ],
   "source": [
    "#Suporta linux?\n",
    "platformlinux = containers[0].find(\"span\", {\"class\",\"platform_img linux\"})\n",
    "try:\n",
    "    if len(platformlinux) == 0:\n",
    "        supportlinux = 1\n",
    "except TypeError:\n",
    "    supportlinux = 0\n",
    "print(supportlinux)"
   ]
  },
  {
   "cell_type": "code",
   "execution_count": 228,
   "metadata": {},
   "outputs": [
    {
     "name": "stdout",
     "output_type": "stream",
     "text": [
      "2022-06-21 22:57\n"
     ]
    }
   ],
   "source": [
    "#Data de hoje\n",
    "now = datetime.datetime.now()\n",
    "print (now.strftime(\"%Y-%m-%d %H:%M\"))"
   ]
  },
  {
   "cell_type": "code",
   "execution_count": 229,
   "metadata": {},
   "outputs": [
    {
     "data": {
      "text/plain": [
       "'Red Dead Redemption 2'"
      ]
     },
     "execution_count": 229,
     "metadata": {},
     "output_type": "execute_result"
    }
   ],
   "source": [
    "#Obter o título, converter para alterar e voltar para string (deve ser feito devido aos caracteres chineses, caso contrário não é possível escrever em csv)\n",
    "title = containers[0].find(\"span\", {\"class\",\"title\"}).text\n",
    "titlebyte = title.encode('ascii', 'ignore')\n",
    "str(titlebyte, 'utf-8')"
   ]
  },
  {
   "cell_type": "code",
   "execution_count": 230,
   "metadata": {},
   "outputs": [],
   "source": [
    "#Criar arquivo csv com cabeçalhos\n",
    "filename=\"steamsales.csv\"\n",
    "file = open(filename, 'w')\n",
    "writer = csv.writer(file)\n",
    "if os.stat(\"steamsales.csv\").st_size == 0:\n",
    "    writer.writerow([\"Title\", \"Rating\", \"reviews\", \"Discount\", \"Normal price\", \"discount price\", \"Publish date\", \"Win\", \"Mac\", \"Linux\", \"Date\"])"
   ]
  },
  {
   "cell_type": "code",
   "execution_count": 231,
   "metadata": {},
   "outputs": [
    {
     "name": "stdout",
     "output_type": "stream",
     "text": [
      "Red Dead Redemption 2\n",
      "88%\n",
      "247,002\n",
      "-50%\n",
      "\n",
      "239,00\n",
      "5 Dec, 2019\n",
      "Windows support: 1\n",
      "Mac support: 0\n",
      "Linux support: 0\n",
      "2022-06-21 22:57\n",
      "God of War\n",
      "97%\n",
      "34,532\n",
      "-20%\n",
      "\n",
      "199,90\n",
      "14 Jan, 2022\n",
      "Windows support: 1\n",
      "Mac support: 0\n",
      "Linux support: 0\n",
      "2022-06-21 22:57\n",
      "DayZ\n",
      "71%\n",
      "255,764\n",
      "-40%\n",
      "\n",
      "119,99\n",
      "13 Dec, 2018\n",
      "Windows support: 1\n",
      "Mac support: 0\n",
      "Linux support: 0\n",
      "2022-06-21 22:57\n",
      "FINAL FANTASY VII REMAKE INTERGRADE\n",
      "91%\n",
      "2,070\n",
      "-29%\n",
      "\n",
      "349,90\n",
      "17 Jun, 2022\n",
      "Windows support: 1\n",
      "Mac support: 0\n",
      "Linux support: 0\n",
      "2022-06-21 22:57\n",
      "Raft\n",
      "93%\n",
      "151,608\n",
      "-15%\n",
      "\n",
      "36,99\n",
      "20 Jun, 2022\n",
      "Windows support: 1\n",
      "Mac support: 0\n",
      "Linux support: 0\n",
      "2022-06-21 22:57\n",
      "MONSTER HUNTER RISE\n",
      "87%\n",
      "21,593\n",
      "-49%\n",
      "\n",
      "179,99\n",
      "12 Jan, 2022\n",
      "Windows support: 1\n",
      "Mac support: 0\n",
      "Linux support: 0\n",
      "2022-06-21 22:57\n",
      "A Plague Tale: Innocence\n",
      "93%\n",
      "37,791\n",
      "-80%\n",
      "\n",
      "129,90\n",
      "14 May, 2019\n",
      "Windows support: 1\n",
      "Mac support: 0\n",
      "Linux support: 0\n",
      "2022-06-21 22:57\n",
      "DayZ Livonia Edition\n",
      "71%\n",
      "256,720\n",
      "-43%\n",
      "\n",
      "144,98\n",
      "\n",
      "Windows support: 1\n",
      "Mac support: 0\n",
      "Linux support: 0\n",
      "2022-06-21 22:57\n",
      "Dying Light 2 Stay Human\n",
      "79%\n",
      "73,942\n",
      "-33%\n",
      "\n",
      "249,00\n",
      "3 Feb, 2022\n",
      "Windows support: 1\n",
      "Mac support: 0\n",
      "Linux support: 0\n",
      "2022-06-21 22:57\n",
      "Devil May Cry 5\n",
      "95%\n",
      "47,537\n",
      "-67%\n",
      "\n",
      "89,99\n",
      "7 Mar, 2019\n",
      "Windows support: 1\n",
      "Mac support: 0\n",
      "Linux support: 0\n",
      "2022-06-21 22:57\n",
      "Forza Horizon 5\n",
      "87%\n",
      "70,911\n",
      "-20%\n",
      "\n",
      "249,00\n",
      "8 Nov, 2021\n",
      "Windows support: 1\n",
      "Mac support: 0\n",
      "Linux support: 0\n",
      "2022-06-21 22:57\n",
      "Dragon's Dogma: Dark Arisen\n",
      "89%\n",
      "21,019\n",
      "-84%\n",
      "\n",
      "74,99\n",
      "15 Jan, 2016\n",
      "Windows support: 1\n",
      "Mac support: 0\n",
      "Linux support: 0\n",
      "2022-06-21 22:57\n",
      "Chivalry 2\n",
      "83%\n",
      "5,438\n",
      "-40%\n",
      "\n",
      "75,49\n",
      "12 Jun, 2022\n",
      "Windows support: 1\n",
      "Mac support: 0\n",
      "Linux support: 0\n",
      "2022-06-21 22:57\n",
      "Monster Hunter: World\n",
      "87%\n",
      "214,112\n",
      "-50%\n",
      "\n",
      "69,99\n",
      "9 Aug, 2018\n",
      "Windows support: 1\n",
      "Mac support: 0\n",
      "Linux support: 0\n",
      "2022-06-21 22:57\n",
      "Ruined King: A League of Legends Story\n",
      "89%\n",
      "7,542\n",
      "-40%\n",
      "\n",
      "69,99\n",
      "16 Nov, 2021\n",
      "Windows support: 1\n",
      "Mac support: 0\n",
      "Linux support: 0\n",
      "2022-06-21 22:57\n",
      "STAR WARS Jedi: Fallen Order\n",
      "90%\n",
      "79,202\n",
      "-75%\n",
      "\n",
      "199,00\n",
      "14 Nov, 2019\n",
      "Windows support: 1\n",
      "Mac support: 0\n",
      "Linux support: 0\n",
      "2022-06-21 22:57\n",
      "theHunter: Call of the Wild\n",
      "87%\n",
      "91,206\n",
      "-75%\n",
      "\n",
      "37,99\n",
      "16 Feb, 2017\n",
      "Windows support: 1\n",
      "Mac support: 0\n",
      "Linux support: 0\n",
      "2022-06-21 22:57\n",
      "Dying Light\n",
      "95%\n",
      "234,640\n",
      "-60%\n",
      "\n",
      "74,99\n",
      "21 Apr, 2016\n",
      "Windows support: 1\n",
      "Mac support: 1\n",
      "Linux support: 1\n",
      "2022-06-21 22:57\n",
      "Teenage Mutant Ninja Turtles: Shredder's Revenge\n",
      "93%\n",
      "3,950\n",
      "-10%\n",
      "\n",
      "94,99\n",
      "16 Jun, 2022\n",
      "Windows support: 1\n",
      "Mac support: 0\n",
      "Linux support: 1\n",
      "2022-06-21 22:57\n",
      "MONSTER HUNTER RISE Deluxe Edition\n",
      "87%\n",
      "21,652\n",
      "-52%\n",
      "\n",
      "224,98\n",
      "\n",
      "Windows support: 1\n",
      "Mac support: 0\n",
      "Linux support: 0\n",
      "2022-06-21 22:57\n",
      "Deep Rock Galactic\n",
      "97%\n",
      "109,653\n",
      "-67%\n",
      "\n",
      "57,99\n",
      "13 May, 2020\n",
      "Windows support: 1\n",
      "Mac support: 0\n",
      "Linux support: 0\n",
      "2022-06-21 22:57\n",
      "Jurassic World Evolution 2\n",
      "82%\n",
      "9,921\n",
      "-50%\n",
      "\n",
      "109,99\n",
      "9 Nov, 2021\n",
      "Windows support: 1\n",
      "Mac support: 0\n",
      "Linux support: 0\n",
      "2022-06-21 22:57\n",
      "Battlefield 2042\n",
      "28%\n",
      "106,916\n",
      "-50%\n",
      "\n",
      "249,00\n",
      "19 Nov, 2021\n",
      "Windows support: 1\n",
      "Mac support: 0\n",
      "Linux support: 0\n",
      "2022-06-21 22:57\n",
      "Street Fighter V\n",
      "69%\n",
      "22,808\n",
      "-75%\n",
      "\n",
      "39,99\n",
      "15 Feb, 2016\n",
      "Windows support: 1\n",
      "Mac support: 0\n",
      "Linux support: 0\n",
      "2022-06-21 22:57\n",
      "Monster Hunter World: Iceborne\n",
      "55%\n",
      "14,590\n",
      "-50%\n",
      "\n",
      "89,99\n",
      "9 Jan, 2020\n",
      "Windows support: 1\n",
      "Mac support: 0\n",
      "Linux support: 0\n",
      "2022-06-21 22:57\n"
     ]
    }
   ],
   "source": [
    "#Os trechos de código anteriores adicionados em um loop\n",
    "class Scraper:\n",
    "    def scrape(self):\n",
    "        for x in range(len(containers)):\n",
    "            title = containers[x].find(\"span\", {\"class\",\"title\"}).text\n",
    "            titlebyte = title.encode('ascii', 'ignore')\n",
    "            title=str(titlebyte, 'utf-8')\n",
    "            print(title)\n",
    "\n",
    "            try:\n",
    "                rating = containers[x].find(\"span\", {\"class\",\"search_review_summary\"})\n",
    "                ratingtext = rating[\"data-tooltip-html\"]\n",
    "                splitrating = ratingtext.split(\">\")\n",
    "                splitrating[1].split()\n",
    "                percentile = splitrating[1].split()\n",
    "                score = percentile[0]\n",
    "                reviews = percentile[3].strip()\n",
    "                print(score)\n",
    "                print(reviews)\n",
    "            except:\n",
    "                print(\"No review data\")\n",
    "            discount = containers[x].find(\"div\", {\"class\",\"search_discount\"})\n",
    "            price = containers[x].find(\"div\", {\"class\",\"search_price\"}).text\n",
    "            price2 = price.split(\"R$\")\n",
    "            originalprice = price2[0].replace(\"\\n\",\"\").strip()\n",
    "            discountprice = price2[1].strip()\n",
    "            published = containers[x].find(\"div\", {\"class\",\"search_released\"}).text\n",
    "            discounted = discount.text.strip()\n",
    "            print(discounted)\n",
    "            print(originalprice)\n",
    "            print(discountprice)\n",
    "            print(published)\n",
    "            platformwin = containers[x].find(\"span\", {\"class\",\"platform_img win\"})\n",
    "            try:\n",
    "                if len(platformwin) == 0:\n",
    "                    supportwin = 1\n",
    "            except TypeError:\n",
    "                supportwin = 0\n",
    "            print(\"Windows support:\",supportwin)\n",
    "\n",
    "            platformmac = containers[x].find(\"span\", {\"class\",\"platform_img mac\"})\n",
    "            try:\n",
    "                if len(platformmac) == 0:\n",
    "                    supportmac = 1\n",
    "            except TypeError:\n",
    "                supportmac = 0\n",
    "            print(\"Mac support:\",supportmac)\n",
    "\n",
    "            platformlinux = containers[x].find(\"span\", {\"class\",\"platform_img linux\"})\n",
    "            try:\n",
    "                if len(platformlinux) == 0:\n",
    "                    supportlinux = 1\n",
    "            except TypeError:\n",
    "                supportlinux = 0\n",
    "            print(\"Linux support:\",supportlinux)\n",
    "            now = datetime.datetime.now()\n",
    "            print (now.strftime(\"%Y-%m-%d %H:%M\"))\n",
    "            saledate= now.strftime(\"%Y-%m-%d %H:%M\")\n",
    "            writer.writerow([title,score,reviews,discounted,originalprice,discountprice, published,supportwin,supportmac,supportlinux,saledate])\n",
    "scraper = Scraper()\n",
    "scraper.scrape()"
   ]
  },
  {
   "cell_type": "code",
   "execution_count": 232,
   "metadata": {},
   "outputs": [],
   "source": [
    "#Baixe páginas e armazene os dados em um csv\n",
    "for x in range(0):\n",
    "    page=str(x+1)\n",
    "    url = (\"https://store.steampowered.com/search/?specials=1&page=\"+page)\n",
    "    uClient = uReq(url)\n",
    "    page_html = uClient.read()\n",
    "    page_soup = soup(page_html, \"html.parser\")\n",
    "    containers = page_soup.findAll(\"div\",{\"class\":\"responsive_search_name_combined\"})\n",
    "    scraper.scrape()\n",
    "    uClient.close()"
   ]
  },
  {
   "cell_type": "code",
   "execution_count": 233,
   "metadata": {},
   "outputs": [],
   "source": [
    "file.close()"
   ]
  },
  {
   "cell_type": "code",
   "execution_count": null,
   "metadata": {},
   "outputs": [],
   "source": []
  },
  {
   "cell_type": "code",
   "execution_count": null,
   "metadata": {},
   "outputs": [],
   "source": []
  }
 ],
 "metadata": {
  "kernelspec": {
   "display_name": "Python 3 (ipykernel)",
   "language": "python",
   "name": "python3"
  },
  "language_info": {
   "codemirror_mode": {
    "name": "ipython",
    "version": 3
   },
   "file_extension": ".py",
   "mimetype": "text/x-python",
   "name": "python",
   "nbconvert_exporter": "python",
   "pygments_lexer": "ipython3",
   "version": "3.9.7"
  }
 },
 "nbformat": 4,
 "nbformat_minor": 2
}
