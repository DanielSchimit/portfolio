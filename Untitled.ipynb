{
 "cells": [
  {
   "cell_type": "code",
   "execution_count": null,
   "id": "dbd17e95",
   "metadata": {
    "ExecuteTime": {
     "end_time": "2022-02-23T20:24:21.606717Z",
     "start_time": "2022-02-23T20:24:21.606717Z"
    }
   },
   "outputs": [],
   "source": [
    "import pandas as pd\n",
    "from urllib.request import urlretrieve\n",
    "import matplotlib.pyplot as plt\n",
    "%matplotlib inline"
   ]
  },
  {
   "cell_type": "code",
   "execution_count": null,
   "id": "2e86010e",
   "metadata": {
    "ExecuteTime": {
     "end_time": "2022-02-23T20:24:21.614715Z",
     "start_time": "2022-02-23T20:24:21.614715Z"
    }
   },
   "outputs": [],
   "source": [
    "url = 'https://raw.githubusercontent.com/CSSEGISandData/COVID-19/master/csse_covid_19_data/csse_covid_19_time_series/time_series_covid19_confirmed_global.csv'\n",
    "urlretrieve(url, 'ESTUDO-DIRIGIDO-PARA-GIT/Portfolio/portfolio/global_case_covid.csv')"
   ]
  },
  {
   "cell_type": "code",
   "execution_count": 9,
   "id": "8780f5aa",
   "metadata": {
    "ExecuteTime": {
     "end_time": "2022-02-23T20:26:14.327561Z",
     "start_time": "2022-02-23T20:26:14.058034Z"
    }
   },
   "outputs": [],
   "source": [
    "df_covid = pd.read_csv(r'C:\\Users\\Daniel\\PycharmProjects\\guppe\\global_case_covid.csv')"
   ]
  },
  {
   "cell_type": "code",
   "execution_count": 10,
   "id": "b4801e57",
   "metadata": {
    "ExecuteTime": {
     "end_time": "2022-02-23T20:26:14.454559Z",
     "start_time": "2022-02-23T20:26:14.337559Z"
    }
   },
   "outputs": [
    {
     "data": {
      "text/html": [
       "<div>\n",
       "<style scoped>\n",
       "    .dataframe tbody tr th:only-of-type {\n",
       "        vertical-align: middle;\n",
       "    }\n",
       "\n",
       "    .dataframe tbody tr th {\n",
       "        vertical-align: top;\n",
       "    }\n",
       "\n",
       "    .dataframe thead th {\n",
       "        text-align: right;\n",
       "    }\n",
       "</style>\n",
       "<table border=\"1\" class=\"dataframe\">\n",
       "  <thead>\n",
       "    <tr style=\"text-align: right;\">\n",
       "      <th></th>\n",
       "      <th>Province/State</th>\n",
       "      <th>Country/Region</th>\n",
       "      <th>Lat</th>\n",
       "      <th>Long</th>\n",
       "      <th>1/22/20</th>\n",
       "      <th>1/23/20</th>\n",
       "      <th>1/24/20</th>\n",
       "      <th>1/25/20</th>\n",
       "      <th>1/26/20</th>\n",
       "      <th>1/27/20</th>\n",
       "      <th>...</th>\n",
       "      <th>2/13/22</th>\n",
       "      <th>2/14/22</th>\n",
       "      <th>2/15/22</th>\n",
       "      <th>2/16/22</th>\n",
       "      <th>2/17/22</th>\n",
       "      <th>2/18/22</th>\n",
       "      <th>2/19/22</th>\n",
       "      <th>2/20/22</th>\n",
       "      <th>2/21/22</th>\n",
       "      <th>2/22/22</th>\n",
       "    </tr>\n",
       "  </thead>\n",
       "  <tbody>\n",
       "    <tr>\n",
       "      <th>0</th>\n",
       "      <td>NaN</td>\n",
       "      <td>Afghanistan</td>\n",
       "      <td>33.93911</td>\n",
       "      <td>67.709953</td>\n",
       "      <td>0</td>\n",
       "      <td>0</td>\n",
       "      <td>0</td>\n",
       "      <td>0</td>\n",
       "      <td>0</td>\n",
       "      <td>0</td>\n",
       "      <td>...</td>\n",
       "      <td>170604</td>\n",
       "      <td>171246</td>\n",
       "      <td>171422</td>\n",
       "      <td>171519</td>\n",
       "      <td>171673</td>\n",
       "      <td>171857</td>\n",
       "      <td>171931</td>\n",
       "      <td>172205</td>\n",
       "      <td>172441</td>\n",
       "      <td>172716</td>\n",
       "    </tr>\n",
       "    <tr>\n",
       "      <th>1</th>\n",
       "      <td>NaN</td>\n",
       "      <td>Albania</td>\n",
       "      <td>41.15330</td>\n",
       "      <td>20.168300</td>\n",
       "      <td>0</td>\n",
       "      <td>0</td>\n",
       "      <td>0</td>\n",
       "      <td>0</td>\n",
       "      <td>0</td>\n",
       "      <td>0</td>\n",
       "      <td>...</td>\n",
       "      <td>268008</td>\n",
       "      <td>268304</td>\n",
       "      <td>268491</td>\n",
       "      <td>268940</td>\n",
       "      <td>269301</td>\n",
       "      <td>269601</td>\n",
       "      <td>269904</td>\n",
       "      <td>270164</td>\n",
       "      <td>270370</td>\n",
       "      <td>270455</td>\n",
       "    </tr>\n",
       "    <tr>\n",
       "      <th>2</th>\n",
       "      <td>NaN</td>\n",
       "      <td>Algeria</td>\n",
       "      <td>28.03390</td>\n",
       "      <td>1.659600</td>\n",
       "      <td>0</td>\n",
       "      <td>0</td>\n",
       "      <td>0</td>\n",
       "      <td>0</td>\n",
       "      <td>0</td>\n",
       "      <td>0</td>\n",
       "      <td>...</td>\n",
       "      <td>261752</td>\n",
       "      <td>262165</td>\n",
       "      <td>262570</td>\n",
       "      <td>262994</td>\n",
       "      <td>263369</td>\n",
       "      <td>263685</td>\n",
       "      <td>263936</td>\n",
       "      <td>264054</td>\n",
       "      <td>264201</td>\n",
       "      <td>264365</td>\n",
       "    </tr>\n",
       "    <tr>\n",
       "      <th>3</th>\n",
       "      <td>NaN</td>\n",
       "      <td>Andorra</td>\n",
       "      <td>42.50630</td>\n",
       "      <td>1.521800</td>\n",
       "      <td>0</td>\n",
       "      <td>0</td>\n",
       "      <td>0</td>\n",
       "      <td>0</td>\n",
       "      <td>0</td>\n",
       "      <td>0</td>\n",
       "      <td>...</td>\n",
       "      <td>37140</td>\n",
       "      <td>37277</td>\n",
       "      <td>37361</td>\n",
       "      <td>37452</td>\n",
       "      <td>37522</td>\n",
       "      <td>37589</td>\n",
       "      <td>37589</td>\n",
       "      <td>37589</td>\n",
       "      <td>37589</td>\n",
       "      <td>37820</td>\n",
       "    </tr>\n",
       "    <tr>\n",
       "      <th>4</th>\n",
       "      <td>NaN</td>\n",
       "      <td>Angola</td>\n",
       "      <td>-11.20270</td>\n",
       "      <td>17.873900</td>\n",
       "      <td>0</td>\n",
       "      <td>0</td>\n",
       "      <td>0</td>\n",
       "      <td>0</td>\n",
       "      <td>0</td>\n",
       "      <td>0</td>\n",
       "      <td>...</td>\n",
       "      <td>98514</td>\n",
       "      <td>98514</td>\n",
       "      <td>98555</td>\n",
       "      <td>98568</td>\n",
       "      <td>98585</td>\n",
       "      <td>98605</td>\n",
       "      <td>98617</td>\n",
       "      <td>98638</td>\n",
       "      <td>98658</td>\n",
       "      <td>98671</td>\n",
       "    </tr>\n",
       "  </tbody>\n",
       "</table>\n",
       "<p>5 rows × 767 columns</p>\n",
       "</div>"
      ],
      "text/plain": [
       "  Province/State Country/Region       Lat       Long  1/22/20  1/23/20  \\\n",
       "0            NaN    Afghanistan  33.93911  67.709953        0        0   \n",
       "1            NaN        Albania  41.15330  20.168300        0        0   \n",
       "2            NaN        Algeria  28.03390   1.659600        0        0   \n",
       "3            NaN        Andorra  42.50630   1.521800        0        0   \n",
       "4            NaN         Angola -11.20270  17.873900        0        0   \n",
       "\n",
       "   1/24/20  1/25/20  1/26/20  1/27/20  ...  2/13/22  2/14/22  2/15/22  \\\n",
       "0        0        0        0        0  ...   170604   171246   171422   \n",
       "1        0        0        0        0  ...   268008   268304   268491   \n",
       "2        0        0        0        0  ...   261752   262165   262570   \n",
       "3        0        0        0        0  ...    37140    37277    37361   \n",
       "4        0        0        0        0  ...    98514    98514    98555   \n",
       "\n",
       "   2/16/22  2/17/22  2/18/22  2/19/22  2/20/22  2/21/22  2/22/22  \n",
       "0   171519   171673   171857   171931   172205   172441   172716  \n",
       "1   268940   269301   269601   269904   270164   270370   270455  \n",
       "2   262994   263369   263685   263936   264054   264201   264365  \n",
       "3    37452    37522    37589    37589    37589    37589    37820  \n",
       "4    98568    98585    98605    98617    98638    98658    98671  \n",
       "\n",
       "[5 rows x 767 columns]"
      ]
     },
     "execution_count": 10,
     "metadata": {},
     "output_type": "execute_result"
    }
   ],
   "source": [
    "df_covid.head()"
   ]
  },
  {
   "cell_type": "code",
   "execution_count": null,
   "id": "16d2a814",
   "metadata": {
    "ExecuteTime": {
     "start_time": "2022-02-23T20:31:45.377Z"
    }
   },
   "outputs": [],
   "source": [
    "df_covid.drop(['Lat','Long'], axis=1, inplace=True)"
   ]
  },
  {
   "cell_type": "code",
   "execution_count": null,
   "id": "1b562da7",
   "metadata": {
    "ExecuteTime": {
     "start_time": "2022-02-23T20:31:45.798Z"
    }
   },
   "outputs": [],
   "source": [
    "df_country = df_covid.groupby('Country/Region').sum()\n"
   ]
  },
  {
   "cell_type": "code",
   "execution_count": null,
   "id": "9f578a66",
   "metadata": {
    "ExecuteTime": {
     "start_time": "2022-02-23T20:31:45.911Z"
    }
   },
   "outputs": [],
   "source": [
    "df_country.loc['Brazil']"
   ]
  },
  {
   "cell_type": "code",
   "execution_count": null,
   "id": "7e3a28c3",
   "metadata": {
    "ExecuteTime": {
     "start_time": "2022-02-23T20:31:28.191Z"
    }
   },
   "outputs": [],
   "source": [
    "date = df_country.loc['Brazil'].index\n",
    "Cases = df_country.loc['Brazil'].values"
   ]
  },
  {
   "cell_type": "code",
   "execution_count": null,
   "id": "9a913001",
   "metadata": {
    "ExecuteTime": {
     "start_time": "2022-02-23T20:31:28.344Z"
    }
   },
   "outputs": [],
   "source": [
    "plt.bar(date,Cases)\n"
   ]
  },
  {
   "cell_type": "code",
   "execution_count": null,
   "id": "b0530cb8",
   "metadata": {
    "ExecuteTime": {
     "start_time": "2022-02-23T20:31:28.865Z"
    }
   },
   "outputs": [],
   "source": [
    "plt.show()"
   ]
  },
  {
   "cell_type": "code",
   "execution_count": null,
   "id": "a00b5e2c",
   "metadata": {},
   "outputs": [],
   "source": []
  },
  {
   "cell_type": "code",
   "execution_count": null,
   "id": "9090b275",
   "metadata": {},
   "outputs": [],
   "source": []
  }
 ],
 "metadata": {
  "kernelspec": {
   "display_name": "Python 3 (ipykernel)",
   "language": "python",
   "name": "python3"
  },
  "language_info": {
   "codemirror_mode": {
    "name": "ipython",
    "version": 3
   },
   "file_extension": ".py",
   "mimetype": "text/x-python",
   "name": "python",
   "nbconvert_exporter": "python",
   "pygments_lexer": "ipython3",
   "version": "3.10.0"
  },
  "latex_envs": {
   "LaTeX_envs_menu_present": true,
   "autoclose": false,
   "autocomplete": true,
   "bibliofile": "biblio.bib",
   "cite_by": "apalike",
   "current_citInitial": 1,
   "eqLabelWithNumbers": true,
   "eqNumInitial": 1,
   "hotkeys": {
    "equation": "Ctrl-E",
    "itemize": "Ctrl-I"
   },
   "labels_anchors": false,
   "latex_user_defs": false,
   "report_style_numbering": false,
   "user_envs_cfg": false
  },
  "nbTranslate": {
   "displayLangs": [
    "*"
   ],
   "hotkey": "alt-t",
   "langInMainMenu": true,
   "sourceLang": "en",
   "targetLang": "fr",
   "useGoogleTranslate": true
  },
  "toc": {
   "base_numbering": 1,
   "nav_menu": {},
   "number_sections": true,
   "sideBar": true,
   "skip_h1_title": false,
   "title_cell": "Table of Contents",
   "title_sidebar": "Contents",
   "toc_cell": false,
   "toc_position": {},
   "toc_section_display": true,
   "toc_window_display": false
  },
  "varInspector": {
   "cols": {
    "lenName": 16,
    "lenType": 16,
    "lenVar": 40
   },
   "kernels_config": {
    "python": {
     "delete_cmd_postfix": "",
     "delete_cmd_prefix": "del ",
     "library": "var_list.py",
     "varRefreshCmd": "print(var_dic_list())"
    },
    "r": {
     "delete_cmd_postfix": ") ",
     "delete_cmd_prefix": "rm(",
     "library": "var_list.r",
     "varRefreshCmd": "cat(var_dic_list()) "
    }
   },
   "types_to_exclude": [
    "module",
    "function",
    "builtin_function_or_method",
    "instance",
    "_Feature"
   ],
   "window_display": false
  }
 },
 "nbformat": 4,
 "nbformat_minor": 5
}
